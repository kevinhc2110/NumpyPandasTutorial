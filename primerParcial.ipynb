{
 "cells": [
  {
   "cell_type": "markdown",
   "metadata": {},
   "source": [
    "# Primer parcial"
   ]
  },
  {
   "cell_type": "code",
   "execution_count": 7,
   "metadata": {},
   "outputs": [
    {
     "name": "stdout",
     "output_type": "stream",
     "text": [
      "Lista de empleados generados:\n",
      "(6483, 'Pablo', 29, 'Marketing', 97902)\n",
      "(3347, 'Marta', 37, 'Marketing', 43151)\n",
      "(2063, 'Luis', 35, 'Marketing', 38292)\n",
      "(3906, 'Pedro', 36, 'Marketing', 42221)\n",
      "(9034, 'Pedro', 41, 'TI', 52904)\n",
      "(2857, 'Pablo', 49, 'Ventas', 88174)\n",
      "(7876, 'Jorge', 21, 'TI', 34710)\n",
      "(9814, 'Ana', 23, 'TI', 54246)\n",
      "(2275, 'Sofía', 18, 'Marketing', 49067)\n",
      "(3331, 'Pedro', 27, 'TI', 79457)\n",
      "(8224, 'Jorge', 22, 'Ventas', 97243)\n",
      "(8535, 'Ana', 43, 'TI', 48232)\n",
      "(3287, 'Luis', 55, 'Recursos Humanos', 73784)\n",
      "(2554, 'Sofía', 44, 'TI', 55892)\n",
      "(7053, 'Jorge', 50, 'Recursos Humanos', 32263)\n",
      "(5683, 'Sofía', 54, 'Ventas', 53121)\n",
      "(5236, 'Pablo', 47, 'TI', 74706)\n",
      "(2248, 'Pedro', 20, 'Marketing', 67057)\n",
      "(5690, 'Sofía', 19, 'Recursos Humanos', 95620)\n",
      "(7036, 'Lucía', 39, 'Ventas', 80410)\n"
     ]
    }
   ],
   "source": [
    "import random\n",
    "\n",
    "# Datos predefinidos\n",
    "nombres = ['Ana', 'Luis', 'Carlos', 'Marta', 'Pedro', 'Lucía', 'Jorge', 'Sofía', 'Pablo', 'Julia']\n",
    "departamentos = ['Ventas', 'TI', 'Recursos Humanos', 'Marketing']\n",
    "\n",
    "# Función para generar empleados aleatorios\n",
    "def generar_empleados(num_empleados):\n",
    "    empleados = []\n",
    "    ids_empleados = set()  # ID únicos\n",
    "    while len(empleados) < num_empleados:\n",
    "        id_empleado = random.randint(1000, 9999)\n",
    "        if id_empleado not in ids_empleados:\n",
    "            ids_empleados.add(id_empleado)\n",
    "            nombre = random.choice(nombres)\n",
    "            edad = random.randint(18, 65)\n",
    "            departamento = random.choice(departamentos)\n",
    "            salario = random.randint(30000, 100000)\n",
    "            empleado = (id_empleado, nombre, edad, departamento, salario)\n",
    "            empleados.append(empleado)\n",
    "    return empleados\n",
    "\n",
    "\n",
    "# Estadísticas de salarios mayores a 80,000\n",
    "def ids_salarios_altos(lista_empleados):\n",
    "    return frozenset([empleado[0] for empleado in lista_empleados if empleado[4] > 80000])\n",
    "\n",
    "# Generación de datos aleatorios\n",
    "empleados = generar_empleados(20)\n",
    "\n",
    "# Diccionario para departamentos y set de IDs de empleados por departamento\n",
    "dicc_departamentos = {}\n",
    "for empleado in empleados:\n",
    "    id_empleado, _, _, departamento, _ = empleado\n",
    "    if departamento not in dicc_departamentos:\n",
    "        dicc_departamentos[departamento] = {id_empleado}\n",
    "    else:\n",
    "        dicc_departamentos[departamento].add(id_empleado)\n",
    "\n",
    "# Mostrar resultados en la terminal\n",
    "print(\"Lista de empleados generados:\")\n",
    "for empleado in empleados:\n",
    "    print(empleado)\n"
   ]
  },
  {
   "cell_type": "code",
   "execution_count": 8,
   "metadata": {},
   "outputs": [
    {
     "name": "stdout",
     "output_type": "stream",
     "text": [
      "\n",
      "Diccionario de departamentos y IDs de empleados:\n",
      "Marketing: {3906, 2275, 2248, 2063, 3347, 6483}\n",
      "TI: {3331, 7876, 9034, 5236, 9814, 8535, 2554}\n",
      "Ventas: {8224, 2857, 5683, 7036}\n",
      "Recursos Humanos: {5690, 7053, 3287}\n",
      "\n",
      "Frozenset de empleados con salarios superiores a 80,000:\n",
      "frozenset({8224, 2857, 6483, 5690, 7036})\n"
     ]
    }
   ],
   "source": [
    "# Frozenset de empleados con salarios superiores a 80,000\n",
    "salarios_altos = ids_salarios_altos(empleados)\n",
    "\n",
    "\n",
    "print(\"\\nDiccionario de departamentos y IDs de empleados:\")\n",
    "for departamento, ids in dicc_departamentos.items():\n",
    "    print(f\"{departamento}: {ids}\")\n",
    "\n",
    "print(\"\\nFrozenset de empleados con salarios superiores a 80,000:\")\n",
    "print(salarios_altos)\n"
   ]
  },
  {
   "cell_type": "code",
   "execution_count": 9,
   "metadata": {},
   "outputs": [
    {
     "name": "stdout",
     "output_type": "stream",
     "text": [
      "\n",
      "Datos del empleado leído: (1234, 'María', 30, 'TI', 45000)\n",
      "\n",
      "Después de actualizar el salario: (1234, 'María', 30, 'TI', 50000)\n"
     ]
    }
   ],
   "source": [
    "# Funciones CRUD\n",
    "def crear_empleado(lista_empleados, dicc_departamentos, empleado):\n",
    "    lista_empleados.append(empleado)\n",
    "    id_empleado, _, _, departamento, _ = empleado\n",
    "    if departamento in dicc_departamentos:\n",
    "        dicc_departamentos[departamento].add(id_empleado)\n",
    "    else:\n",
    "        dicc_departamentos[departamento] = {id_empleado}\n",
    "\n",
    "def leer_empleado(lista_empleados, id_empleado):\n",
    "    for empleado in lista_empleados:\n",
    "        if empleado[0] == id_empleado:\n",
    "            return empleado\n",
    "    return None\n",
    "\n",
    "def actualizar_empleado(lista_empleados, dicc_departamentos, id_empleado, campo, valor):\n",
    "    for i, empleado in enumerate(lista_empleados):\n",
    "        if empleado[0] == id_empleado:\n",
    "            empleado = list(empleado)\n",
    "            if campo == 'nombre':\n",
    "                empleado[1] = valor\n",
    "            elif campo == 'edad':\n",
    "                empleado[2] = valor\n",
    "            elif campo == 'departamento':\n",
    "                # Actualizar diccionario de departamentos si se cambia el departamento\n",
    "                dicc_departamentos[empleado[3]].remove(id_empleado)\n",
    "                empleado[3] = valor\n",
    "                if valor in dicc_departamentos:\n",
    "                    dicc_departamentos[valor].add(id_empleado)\n",
    "                else:\n",
    "                    dicc_departamentos[valor] = {id_empleado}\n",
    "            elif campo == 'salario':\n",
    "                empleado[4] = valor\n",
    "            lista_empleados[i] = tuple(empleado)\n",
    "            break\n",
    "\n",
    "def eliminar_empleado(lista_empleados, dicc_departamentos, id_empleado):\n",
    "    for empleado in lista_empleados:\n",
    "        if empleado[0] == id_empleado:\n",
    "            lista_empleados.remove(empleado)\n",
    "            dicc_departamentos[empleado[3]].remove(id_empleado)\n",
    "            break\n",
    "\n",
    "# CRUD Implementación\n",
    "\n",
    "# 1. Crear un nuevo empleado\n",
    "nuevo_empleado = (1234, 'María', 30, 'TI', 45000)\n",
    "crear_empleado(empleados, dicc_departamentos, nuevo_empleado)\n",
    "\n",
    "\n",
    "# 2. Leer los datos del empleado creado\n",
    "empleado = leer_empleado(empleados, 1234)\n",
    "print(f\"\\nDatos del empleado leído: {empleado}\")\n",
    "\n",
    "# 3. Actualizar el salario del empleado\n",
    "actualizar_empleado(empleados, dicc_departamentos, 1234, 'salario', 50000)\n",
    "print(f\"\\nDespués de actualizar el salario: {leer_empleado(empleados, 1234)}\")\n",
    "\n",
    "# 4. Eliminar al empleado\n",
    "eliminar_empleado(empleados, dicc_departamentos, 1234)\n",
    "\n",
    "\n",
    "\n",
    "\n",
    "\n",
    "\n"
   ]
  },
  {
   "cell_type": "code",
   "execution_count": 10,
   "metadata": {},
   "outputs": [
    {
     "name": "stdout",
     "output_type": "stream",
     "text": [
      "\n",
      "Diccionario de departamentos y IDs de empleados actualizado:\n",
      "Marketing: {3906, 2275, 2248, 2063, 3347, 6483}\n",
      "TI: {3331, 7876, 9034, 5236, 9814, 8535, 2554}\n",
      "Ventas: {8224, 2857, 5683, 7036}\n",
      "Recursos Humanos: {5690, 7053, 3287}\n"
     ]
    }
   ],
   "source": [
    "print(\"\\nDiccionario de departamentos y IDs de empleados actualizado:\")\n",
    "for departamento, ids in dicc_departamentos.items():\n",
    "    print(f\"{departamento}: {ids}\")"
   ]
  }
 ],
 "metadata": {
  "kernelspec": {
   "display_name": "Python 3",
   "language": "python",
   "name": "python3"
  },
  "language_info": {
   "codemirror_mode": {
    "name": "ipython",
    "version": 3
   },
   "file_extension": ".py",
   "mimetype": "text/x-python",
   "name": "python",
   "nbconvert_exporter": "python",
   "pygments_lexer": "ipython3",
   "version": "3.12.6"
  }
 },
 "nbformat": 4,
 "nbformat_minor": 2
}
