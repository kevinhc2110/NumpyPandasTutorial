{
 "cells": [
  {
   "cell_type": "code",
   "execution_count": null,
   "metadata": {},
   "outputs": [],
   "source": [
    "import pandas as pd\n",
    "\n",
    "# leer base de datos\n",
    "df = pd.read_csv(r'C:\\\\Users\\\\kevin\\\\Downloads\\\\archive\\\\rows.csv')\n",
    "\n"
   ]
  },
  {
   "cell_type": "code",
   "execution_count": null,
   "metadata": {},
   "outputs": [],
   "source": [
    "df"
   ]
  },
  {
   "cell_type": "code",
   "execution_count": null,
   "metadata": {},
   "outputs": [],
   "source": [
    "# Análisis estadístico de los datos\n",
    "df.describe()"
   ]
  },
  {
   "cell_type": "code",
   "execution_count": null,
   "metadata": {},
   "outputs": [],
   "source": [
    "# Mostrar las primeras 5 filas\n",
    "print(df.head())"
   ]
  },
  {
   "cell_type": "code",
   "execution_count": null,
   "metadata": {},
   "outputs": [],
   "source": [
    "# Mostrar las filas especificadas\n",
    "df.tail(10)"
   ]
  },
  {
   "cell_type": "code",
   "execution_count": null,
   "metadata": {},
   "outputs": [],
   "source": [
    "# Mostrar información de base de datos\n",
    "df.info()"
   ]
  },
  {
   "cell_type": "code",
   "execution_count": null,
   "metadata": {},
   "outputs": [],
   "source": [
    "# Mostrar columnas\n",
    "df.columns"
   ]
  },
  {
   "cell_type": "code",
   "execution_count": null,
   "metadata": {},
   "outputs": [],
   "source": [
    "# Copiar base de datos\n",
    "df2 = df.copy()\n",
    "df2.isnull().sum()"
   ]
  },
  {
   "cell_type": "code",
   "execution_count": null,
   "metadata": {},
   "outputs": [],
   "source": [
    "df3 = df[['fecha reporte web', 'Fecha de notificación', 'Nombre departamento', 'Nombre municipio', 'Edad', 'Sexo']]\n",
    "df3"
   ]
  },
  {
   "cell_type": "code",
   "execution_count": 13,
   "metadata": {},
   "outputs": [
    {
     "data": {
      "text/plain": [
       "Nombre departamento\n",
       "AMAZONAS              7879\n",
       "ANTIOQUIA           955271\n",
       "ARAUCA               17387\n",
       "ATLANTICO           141072\n",
       "BARRANQUILLA        277989\n",
       "BOGOTA             1888137\n",
       "BOLIVAR              40336\n",
       "BOYACA              131133\n",
       "CALDAS              120029\n",
       "CAQUETA              25750\n",
       "CARTAGENA           163526\n",
       "CASANARE             43302\n",
       "CAUCA                77337\n",
       "CESAR               109830\n",
       "CHOCO                18907\n",
       "CORDOBA             123095\n",
       "CUNDINAMARCA        331331\n",
       "Caldas                   1\n",
       "Cundinamarca             7\n",
       "GUAINIA               2795\n",
       "GUAJIRA              58353\n",
       "GUAVIARE              5692\n",
       "HUILA               103578\n",
       "MAGDALENA            33165\n",
       "META                108194\n",
       "NARIÑO              108967\n",
       "NORTE SANTANDER     126015\n",
       "PUTUMAYO             22142\n",
       "Putumayo                 1\n",
       "QUINDIO              73290\n",
       "RISARALDA           110235\n",
       "SAN ANDRES           10402\n",
       "SANTANDER           297370\n",
       "STA MARTA D.E.       84863\n",
       "SUCRE                67471\n",
       "Santander              162\n",
       "TOLIMA              127764\n",
       "Tolima                   1\n",
       "VALLE               572724\n",
       "VAUPES                1972\n",
       "VICHADA               3496\n",
       "Name: ID de caso, dtype: int64"
      ]
     },
     "execution_count": 13,
     "metadata": {},
     "output_type": "execute_result"
    }
   ],
   "source": [
    "df.groupby(['Nombre departamento']).size()\n",
    "\n",
    "df4 = df.groupby(['Nombre departamento']).count()\n",
    "df4.loc[:,'ID de caso']"
   ]
  },
  {
   "cell_type": "code",
   "execution_count": 16,
   "metadata": {},
   "outputs": [
    {
     "data": {
      "text/plain": [
       "Nombre departamento  Nombre municipio  \n",
       "AMAZONAS             EL ENCANTO (CD)          7\n",
       "                     LA CHORRERA (CD)        38\n",
       "                     LA PEDRERA (CD)        116\n",
       "                     LETICIA               7380\n",
       "                     MIRITI PARANA (CD)      22\n",
       "                                           ... \n",
       "VAUPES               YAVARATE (CD)           43\n",
       "VICHADA              CUMARIBO               359\n",
       "                     LA PRIMAVERA           228\n",
       "                     PUERTO CARREÑO        2771\n",
       "                     SANTA ROSALIA          138\n",
       "Name: ID de caso, Length: 1155, dtype: int64"
      ]
     },
     "execution_count": 16,
     "metadata": {},
     "output_type": "execute_result"
    }
   ],
   "source": [
    "df5 = df.groupby(['Nombre departamento', 'Nombre municipio']).count()\n",
    "df5.loc[:, 'ID de caso']"
   ]
  }
 ],
 "metadata": {
  "kernelspec": {
   "display_name": "Python 3",
   "language": "python",
   "name": "python3"
  },
  "language_info": {
   "codemirror_mode": {
    "name": "ipython",
    "version": 3
   },
   "file_extension": ".py",
   "mimetype": "text/x-python",
   "name": "python",
   "nbconvert_exporter": "python",
   "pygments_lexer": "ipython3",
   "version": "3.12.5"
  }
 },
 "nbformat": 4,
 "nbformat_minor": 2
}
