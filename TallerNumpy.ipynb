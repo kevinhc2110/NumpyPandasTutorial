{
 "cells": [
  {
   "cell_type": "markdown",
   "metadata": {},
   "source": [
    "### 1. Creación de arreglos"
   ]
  },
  {
   "cell_type": "code",
   "execution_count": 1,
   "metadata": {},
   "outputs": [
    {
     "name": "stdout",
     "output_type": "stream",
     "text": [
      "Arreglo de números aleatorios: [92 71 53 13 66 83 18 70 26 82]\n"
     ]
    }
   ],
   "source": [
    "import numpy as np\n",
    "\n",
    "# Crea un arreglo de 10 elementos con números aleatorios entre 1 y 100\n",
    "arr_random = np.random.randint(1, 101, size=10)\n",
    "print(\"Arreglo de números aleatorios:\", arr_random)"
   ]
  },
  {
   "cell_type": "markdown",
   "metadata": {},
   "source": [
    "### 2. Operaciones básicas"
   ]
  },
  {
   "cell_type": "code",
   "execution_count": 3,
   "metadata": {},
   "outputs": [
    {
     "name": "stdout",
     "output_type": "stream",
     "text": [
      "Suma: 15\n",
      "Resta 2: [-1  0  1  2  3]\n",
      "Multiplica por 3: [ 3  6  9 12 15]\n"
     ]
    }
   ],
   "source": [
    "arr = np.array([1, 2, 3, 4, 5])\n",
    "\n",
    "# Suma todos los elementos\n",
    "suma = np.sum(arr)\n",
    "\n",
    "# Resta 2 a cada elemento\n",
    "resta = arr - 2\n",
    "\n",
    "# Multiplica cada elemento por 3\n",
    "multiplicacion = arr * 3\n",
    "\n",
    "print(\"Suma:\", suma)\n",
    "print(\"Resta 2:\", resta)\n",
    "print(\"Multiplica por 3:\", multiplicacion)"
   ]
  },
  {
   "cell_type": "markdown",
   "metadata": {},
   "source": [
    "### 3. Indexación y slicing"
   ]
  },
  {
   "cell_type": "code",
   "execution_count": 4,
   "metadata": {},
   "outputs": [
    {
     "name": "stdout",
     "output_type": "stream",
     "text": [
      "Primeros 3 elementos: [1 2 3]\n",
      "Últimos 2 elementos: [8 9]\n",
      "Elementos en posiciones 2, 4 y 6: [3 5 7]\n"
     ]
    }
   ],
   "source": [
    "arr_slice = np.array([1, 2, 3, 4, 5, 6, 7, 8, 9])\n",
    "\n",
    "# Primeros 3 elementos\n",
    "primerosTres = arr_slice[:3]\n",
    "\n",
    "# Últimos 2 elementos\n",
    "ultimosDos = arr_slice[-2:]\n",
    "\n",
    "# Elementos en las posiciones 2, 4 y 6\n",
    "posiciones = arr_slice[[2, 4, 6]]\n",
    "\n",
    "print(\"Primeros 3 elementos:\", primerosTres)\n",
    "print(\"Últimos 2 elementos:\", ultimosDos)\n",
    "print(\"Elementos en posiciones 2, 4 y 6:\", posiciones)"
   ]
  },
  {
   "cell_type": "markdown",
   "metadata": {},
   "source": [
    "### 4. Reshaping"
   ]
  },
  {
   "cell_type": "code",
   "execution_count": 6,
   "metadata": {},
   "outputs": [
    {
     "name": "stdout",
     "output_type": "stream",
     "text": [
      "Arreglo redimensionado (3, 4):\n",
      " [[ 0  1  2  3]\n",
      " [ 4  5  6  7]\n",
      " [ 8  9 10 11]]\n"
     ]
    }
   ],
   "source": [
    "arr_reshape = np.arange(12)\n",
    "\n",
    "# Redimensionalo para que tenga forma (3, 4)\n",
    "reshaped = arr_reshape.reshape(3, 4)\n",
    "\n",
    "print(\"Arreglo redimensionado (3, 4):\\n\", reshaped)"
   ]
  },
  {
   "cell_type": "markdown",
   "metadata": {},
   "source": [
    "###  5. Arreglos multidimensionales"
   ]
  },
  {
   "cell_type": "code",
   "execution_count": 11,
   "metadata": {},
   "outputs": [
    {
     "name": "stdout",
     "output_type": "stream",
     "text": [
      "Suma de cada fila: [ 6 15 24]\n"
     ]
    }
   ],
   "source": [
    "# Crea un arreglo de 2 dimensiones con forma (3, 3)\n",
    "arr_2d = np.array([[1, 2, 3], [4, 5, 6], [7, 8, 9]])\n",
    "\n",
    "# Suma de cada fila\n",
    "sumaFilas = np.sum(arr_2d, axis=1)\n",
    "\n",
    "print(\"Suma de cada fila:\", sumaFilas)"
   ]
  },
  {
   "cell_type": "markdown",
   "metadata": {},
   "source": [
    "### 6. Funciones matemáticas"
   ]
  },
  {
   "cell_type": "code",
   "execution_count": 20,
   "metadata": {},
   "outputs": [
    {
     "name": "stdout",
     "output_type": "stream",
     "text": [
      "Media: 3.0\n",
      "Mediana: 3.0\n",
      "Desviación estándar: 1.4142135623730951\n"
     ]
    }
   ],
   "source": [
    "arr_math = np.array([1, 2, 3, 4, 5])\n",
    "\n",
    "# Media aritmética\n",
    "mediaAritmetica = np.mean(arr_math)\n",
    "\n",
    "# Mediana\n",
    "mediana = np.median(arr_math)\n",
    "\n",
    "# Desviación estándar\n",
    "desviacionEstandar = np.std(arr_math)\n",
    "\n",
    "print(\"Media:\", mediaAritmetica)\n",
    "print(\"Mediana:\", mediana)\n",
    "print(\"Desviación estándar:\", desviacionEstandar)\n"
   ]
  },
  {
   "cell_type": "markdown",
   "metadata": {},
   "source": [
    "### 7. Comparaciones"
   ]
  },
  {
   "cell_type": "code",
   "execution_count": 21,
   "metadata": {},
   "outputs": [
    {
     "name": "stdout",
     "output_type": "stream",
     "text": [
      "Elementos mayores que 3: [4 5]\n"
     ]
    }
   ],
   "source": [
    "arr_comp = np.array([1, 2, 3, 4, 5])\n",
    "\n",
    "# Elementos que son mayores que 3\n",
    "mayoresQueTres = arr_comp[arr_comp > 3]\n",
    "\n",
    "print(\"Elementos mayores que 3:\", mayoresQueTres)\n"
   ]
  },
  {
   "cell_type": "markdown",
   "metadata": {},
   "source": [
    "### 8. Concatenación"
   ]
  },
  {
   "cell_type": "code",
   "execution_count": 22,
   "metadata": {},
   "outputs": [
    {
     "name": "stdout",
     "output_type": "stream",
     "text": [
      "Arreglo concatenado: [1 2 3 4 5 6]\n"
     ]
    }
   ],
   "source": [
    "arr1 = np.array([1, 2, 3])\n",
    "arr2 = np.array([4, 5, 6])\n",
    "\n",
    "# Concatenación\n",
    "concatenated = np.concatenate((arr1, arr2))\n",
    "\n",
    "print(\"Arreglo concatenado:\", concatenated)\n"
   ]
  },
  {
   "cell_type": "markdown",
   "metadata": {},
   "source": [
    "### 9. Arreglos booleanos"
   ]
  },
  {
   "cell_type": "code",
   "execution_count": 26,
   "metadata": {},
   "outputs": [
    {
     "name": "stdout",
     "output_type": "stream",
     "text": [
      "Elementos que son True: [ True  True  True]\n"
     ]
    }
   ],
   "source": [
    "# Crea un arreglo booleano de 5 elementos\n",
    "bool_arr = np.array([True, False, True, False, True])\n",
    "\n",
    "# Selecciona los elementos que son True\n",
    "elementosVerdaderos = bool_arr[bool_arr]\n",
    "\n",
    "print(\"Elementos que son True:\", elementosVerdaderos)"
   ]
  },
  {
   "cell_type": "markdown",
   "metadata": {},
   "source": [
    "### 10. Funciones de agregación"
   ]
  },
  {
   "cell_type": "code",
   "execution_count": 27,
   "metadata": {},
   "outputs": [
    {
     "name": "stdout",
     "output_type": "stream",
     "text": [
      "Suma acumulada: [ 1  3  6 10 15]\n"
     ]
    }
   ],
   "source": [
    "arr_agg = np.array([1, 2, 3, 4, 5])\n",
    "\n",
    "# Suma acumulada\n",
    "cumulative_sum = np.cumsum(arr_agg)\n",
    "\n",
    "print(\"Suma acumulada:\", cumulative_sum)"
   ]
  },
  {
   "cell_type": "markdown",
   "metadata": {},
   "source": [
    "### 11. Suma de vectores"
   ]
  },
  {
   "cell_type": "code",
   "execution_count": 28,
   "metadata": {},
   "outputs": [
    {
     "name": "stdout",
     "output_type": "stream",
     "text": [
      "Suma de vectores: [5 7 9]\n"
     ]
    }
   ],
   "source": [
    "# Vectores\n",
    "a = np.array([1, 2, 3])\n",
    "b = np.array([4, 5, 6])\n",
    "\n",
    "# Suma vectorial\n",
    "vector_sum = a + b\n",
    "\n",
    "print(\"Suma de vectores:\", vector_sum)\n"
   ]
  },
  {
   "cell_type": "markdown",
   "metadata": {},
   "source": [
    "### 12. Producto escalar "
   ]
  },
  {
   "cell_type": "code",
   "execution_count": 29,
   "metadata": {},
   "outputs": [
    {
     "name": "stdout",
     "output_type": "stream",
     "text": [
      "Producto escalar: 32\n"
     ]
    }
   ],
   "source": [
    "# Producto escalar\n",
    "productoEscalar = np.dot(a, b)\n",
    "\n",
    "print(\"Producto escalar:\", productoEscalar)"
   ]
  },
  {
   "cell_type": "markdown",
   "metadata": {},
   "source": [
    "### 13. Producto vectorial"
   ]
  },
  {
   "cell_type": "code",
   "execution_count": 31,
   "metadata": {},
   "outputs": [
    {
     "name": "stdout",
     "output_type": "stream",
     "text": [
      "Producto vectorial: [-3  6 -3]\n"
     ]
    }
   ],
   "source": [
    "# Producto vectorial\n",
    "productoVectorial = np.cross(a, b)\n",
    "\n",
    "print(\"Producto vectorial:\", productoVectorial)"
   ]
  },
  {
   "cell_type": "markdown",
   "metadata": {},
   "source": [
    "### 14. Magnitud de un vector"
   ]
  },
  {
   "cell_type": "code",
   "execution_count": 32,
   "metadata": {},
   "outputs": [
    {
     "name": "stdout",
     "output_type": "stream",
     "text": [
      "Magnitud de a: 5.0\n"
     ]
    }
   ],
   "source": [
    "vector_a = np.array([3, 4])\n",
    "\n",
    "# Magnitud\n",
    "magnitud = np.linalg.norm(vector_a)\n",
    "\n",
    "print(\"Magnitud de a:\", magnitud)"
   ]
  },
  {
   "cell_type": "markdown",
   "metadata": {},
   "source": [
    "### 15. Normalización de un vector"
   ]
  },
  {
   "cell_type": "code",
   "execution_count": 33,
   "metadata": {},
   "outputs": [
    {
     "name": "stdout",
     "output_type": "stream",
     "text": [
      "Vector normalizado: [0.6 0.8]\n"
     ]
    }
   ],
   "source": [
    "# Normalización\n",
    "normalized_vector = vector_a / magnitud\n",
    "\n",
    "print(\"Vector normalizado:\", normalized_vector)"
   ]
  },
  {
   "cell_type": "markdown",
   "metadata": {},
   "source": [
    "### 16.  Distancia entre vectores"
   ]
  },
  {
   "cell_type": "code",
   "execution_count": 34,
   "metadata": {},
   "outputs": [
    {
     "name": "stdout",
     "output_type": "stream",
     "text": [
      "Distancia entre a y b: 5.196152422706632\n"
     ]
    }
   ],
   "source": [
    "# Distancia entre vectores\n",
    "distance = np.linalg.norm(a - b)\n",
    "\n",
    "print(\"Distancia entre a y b:\", distance)"
   ]
  },
  {
   "cell_type": "markdown",
   "metadata": {},
   "source": [
    "### 17. Ángulo entre vectores\n"
   ]
  },
  {
   "cell_type": "code",
   "execution_count": 36,
   "metadata": {},
   "outputs": [
    {
     "name": "stdout",
     "output_type": "stream",
     "text": [
      "Ángulo entre a y b (grados): 12.933154491899135\n"
     ]
    }
   ],
   "source": [
    "# Cálculo del ángulo en radianes\n",
    "coseno = np.dot(a, b) / (np.linalg.norm(a) * np.linalg.norm(b))\n",
    "radian = np.arccos(coseno)\n",
    "\n",
    "# Convertir a grados\n",
    "anguloGrados = np.degrees(radian)\n",
    "\n",
    "print(\"Ángulo entre a y b (grados):\", anguloGrados)"
   ]
  },
  {
   "cell_type": "markdown",
   "metadata": {},
   "source": [
    "### 18. Proyección de un vector sobre otro"
   ]
  },
  {
   "cell_type": "code",
   "execution_count": 37,
   "metadata": {},
   "outputs": [
    {
     "name": "stdout",
     "output_type": "stream",
     "text": [
      "Proyección de a sobre b: [1.66233766 2.07792208 2.49350649]\n"
     ]
    }
   ],
   "source": [
    "# Proyección de a sobre b\n",
    "proyeccion = (np.dot(a, b) / np.dot(b, b)) * b\n",
    "\n",
    "print(\"Proyección de a sobre b:\", proyeccion)"
   ]
  },
  {
   "cell_type": "markdown",
   "metadata": {},
   "source": [
    "### 19. Vector unitario\n"
   ]
  },
  {
   "cell_type": "code",
   "execution_count": 38,
   "metadata": {},
   "outputs": [
    {
     "name": "stdout",
     "output_type": "stream",
     "text": [
      "Vector unitario de a: [0.6 0.8]\n"
     ]
    }
   ],
   "source": [
    "# Vector unitario\n",
    "vectorUnitario = vector_a / np.linalg.norm(vector_a)\n",
    "\n",
    "print(\"Vector unitario de a:\", vectorUnitario)\n"
   ]
  },
  {
   "cell_type": "markdown",
   "metadata": {},
   "source": [
    "### 20. Rotación de un vector"
   ]
  },
  {
   "cell_type": "code",
   "execution_count": 39,
   "metadata": {},
   "outputs": [
    {
     "name": "stdout",
     "output_type": "stream",
     "text": [
      "Vector rotado 90 grados: [-4.  3.]\n"
     ]
    }
   ],
   "source": [
    "# Rotación de un vector 90 grados en sentido contrario a las agujas del reloj\n",
    "theta = np.radians(90)  \n",
    "rotacion = np.array([[np.cos(theta), -np.sin(theta)], \n",
    "                             [np.sin(theta), np.cos(theta)]])\n",
    "\n",
    "vectorRotado = rotacion @ vector_a\n",
    "\n",
    "print(\"Vector rotado 90 grados:\", vectorRotado)"
   ]
  }
 ],
 "metadata": {
  "kernelspec": {
   "display_name": "Python 3",
   "language": "python",
   "name": "python3"
  },
  "language_info": {
   "codemirror_mode": {
    "name": "ipython",
    "version": 3
   },
   "file_extension": ".py",
   "mimetype": "text/x-python",
   "name": "python",
   "nbconvert_exporter": "python",
   "pygments_lexer": "ipython3",
   "version": "3.12.5"
  }
 },
 "nbformat": 4,
 "nbformat_minor": 2
}
