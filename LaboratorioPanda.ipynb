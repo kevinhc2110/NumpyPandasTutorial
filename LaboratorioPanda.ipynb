{
 "cells": [
  {
   "cell_type": "code",
   "execution_count": null,
   "metadata": {},
   "outputs": [],
   "source": [
    "# Importar la biblioteca pandas\n",
    "import pandas as pd\n",
    "\n",
    "df = pd.read_csv(r'C:\\\\Users\\\\kevin\\\\Downloads\\\\archive\\\\rows.csv')\n",
    "\n",
    "print(df.head())\n"
   ]
  },
  {
   "cell_type": "code",
   "execution_count": 3,
   "metadata": {},
   "outputs": [],
   "source": [
    "df1 = df.copy()"
   ]
  },
  {
   "cell_type": "code",
   "execution_count": null,
   "metadata": {},
   "outputs": [],
   "source": [
    "# 1. Limpiar los datos de nulos y datos incoherentes (incluyendo fechas)\n",
    "\n",
    "date_format = '%d/%m/%Y'\n",
    "\n",
    "df1['fecha reporte web'] = pd.to_datetime(df1['fecha reporte web'], format=date_format, errors='coerce')\n",
    "df1['Fecha de notificación'] = pd.to_datetime(df1['Fecha de notificación'], format=date_format, errors='coerce')\n",
    "df1['Fecha de inicio de síntomas'] = pd.to_datetime(df1['Fecha de inicio de síntomas'], format=date_format, errors='coerce')\n",
    "df1['Fecha de muerte'] = pd.to_datetime(df1['Fecha de muerte'], format=date_format, errors='coerce')\n",
    "df1['Fecha de diagnóstico'] = pd.to_datetime(df1['Fecha de diagnóstico'], format=date_format, errors='coerce')\n",
    "df1['Fecha de recuperación'] = pd.to_datetime(df1['Fecha de recuperación'], format=date_format, errors='coerce')\n",
    "\n",
    "df1 = df1.fillna('No registra')\n",
    "\n",
    "df1.head()"
   ]
  },
  {
   "cell_type": "code",
   "execution_count": null,
   "metadata": {},
   "outputs": [],
   "source": [
    "# 2. Hacer un consolidado de casos por departamento\n",
    "\n",
    "consolidado_departamento = df1.groupby('Nombre departamento').size().reset_index(name='Total de casos')\n",
    "\n",
    "display(consolidado_departamento)"
   ]
  },
  {
   "cell_type": "code",
   "execution_count": null,
   "metadata": {},
   "outputs": [],
   "source": [
    "# 3.\tHacer un consolidado de casos por departamento  - municipio\n",
    "\n",
    "consolidado_departamento_municipio = df1.groupby(['Nombre departamento', 'Nombre municipio']).size().reset_index(name='Total de casos')\n",
    "\n",
    "display(consolidado_departamento_municipio)\n"
   ]
  },
  {
   "cell_type": "code",
   "execution_count": null,
   "metadata": {},
   "outputs": [],
   "source": [
    "# 4.\tFiltrar solo los casos de Risaralda\n",
    "\n",
    "df1['Nombre departamento'] = df1['Nombre departamento'].str.strip().str.lower()\n",
    "\n",
    "casos_risaralda = df1[df1['Nombre departamento'] == 'risaralda']\n",
    "\n",
    "display(casos_risaralda)\n"
   ]
  },
  {
   "cell_type": "code",
   "execution_count": null,
   "metadata": {},
   "outputs": [],
   "source": [
    "# 5.\tConsolidar por Infancia – Adolescente -Adulto – Adulto Mayor teniendo en cuenta (en Risaralda)\n",
    "  # a.\tInfancia 0-14 años (No inclusive 14)\n",
    "  # b.\tAdolescente 14 años – 18 años (No inclusive 18)\n",
    "  # c.\tAdulto 18 años a 65 años (No inclusive 65)\n",
    "  # d.\tAdulto Mayor (65 años en adelante)\n",
    "\n",
    "casos_risaralda = df1[df1['Nombre departamento'].str.strip().str.lower() == 'risaralda'].copy()\n",
    "\n",
    "def clasificar_edad(edad):\n",
    "    if isinstance(edad, (int, float)):  \n",
    "        if 0 <= edad < 14:\n",
    "            return 'Infancia'\n",
    "        elif 14 <= edad < 18:\n",
    "            return 'Adolescente'\n",
    "        elif 18 <= edad < 65:\n",
    "            return 'Adulto'\n",
    "        elif edad >= 65:\n",
    "            return 'Adulto Mayor'\n",
    "    return 'No clasificado'  \n",
    "\n",
    "\n",
    "casos_risaralda['Grupo Edad'] = casos_risaralda['Edad'].apply(clasificar_edad)\n",
    "\n",
    "\n",
    "consolidado_edad = casos_risaralda.groupby('Grupo Edad').size().reset_index(name='Total de casos')\n",
    "\n",
    "\n",
    "display(consolidado_edad)\n",
    "\n",
    "\n"
   ]
  },
  {
   "cell_type": "code",
   "execution_count": null,
   "metadata": {},
   "outputs": [],
   "source": [
    "# 6.\tCuantas mujeres y hombres fueron contagiados de covid en Risaralda?\n",
    "\n",
    "contagios_genero = casos_risaralda['Sexo'].value_counts().reset_index()\n",
    "contagios_genero.columns = ['Sexo', 'Total de casos']\n",
    "\n",
    "print(\"\\nContagios de COVID en Risaralda por género:\")\n",
    "display(contagios_genero)"
   ]
  },
  {
   "cell_type": "code",
   "execution_count": null,
   "metadata": {},
   "outputs": [],
   "source": [
    "# 7.\tCuantas mujeres y hombres murieron por covid en Risaralda?\n",
    "\n",
    "muertes_genero = casos_risaralda[casos_risaralda['Recuperado'] == 'Fallecido']['Sexo'].value_counts().reset_index()\n",
    "muertes_genero.columns = ['Sexo', 'Total de muertes']\n",
    "\n",
    "display(muertes_genero)\n"
   ]
  },
  {
   "cell_type": "code",
   "execution_count": null,
   "metadata": {},
   "outputs": [],
   "source": [
    "# 8.\tCuantos infantes, adolescentes, adultos y adultos mayores murieron por covid en Risaralda.\n",
    "\n",
    "muertes_grupo_edad = casos_risaralda[casos_risaralda['Recuperado'] == 'Fallecido']['Grupo Edad'].value_counts().reset_index()\n",
    "muertes_grupo_edad.columns = ['Grupo Edad', 'Total de muertes']\n",
    "\n",
    "display(muertes_grupo_edad)\n"
   ]
  },
  {
   "cell_type": "code",
   "execution_count": null,
   "metadata": {},
   "outputs": [],
   "source": [
    "# 9.\tCuanto tiempo en promedio por rango (igual que el punto anterior) duraron en recuperarse las personas por covid?\n",
    "\n",
    "casos_risaralda['Fecha de recuperación'] = pd.to_datetime(casos_risaralda['Fecha de recuperación'], errors='coerce')\n",
    "casos_risaralda['Fecha de inicio de síntomas'] = pd.to_datetime(casos_risaralda['Fecha de inicio de síntomas'], errors='coerce')\n",
    "\n",
    "casos_risaralda['Tiempo recuperación (días)'] = (casos_risaralda['Fecha de recuperación'] - casos_risaralda['Fecha de inicio de síntomas']).dt.days\n",
    "\n",
    "tiempo_recuperacion_promedio = casos_risaralda.groupby('Grupo Edad')['Tiempo recuperación (días)'].mean().reset_index()\n",
    "tiempo_recuperacion_promedio.columns = ['Grupo Edad', 'Promedio de días para recuperarse']\n",
    "\n",
    "display(tiempo_recuperacion_promedio)"
   ]
  },
  {
   "cell_type": "code",
   "execution_count": null,
   "metadata": {},
   "outputs": [],
   "source": [
    "# 10.\tSacar el número de casos por municipio\n",
    "\n",
    "casos_municipio = casos_risaralda['Nombre municipio'].value_counts().reset_index()\n",
    "casos_municipio.columns = ['Municipio', 'Total de casos']\n",
    "\n",
    "display(casos_municipio)"
   ]
  }
 ],
 "metadata": {
  "kernelspec": {
   "display_name": "Python 3",
   "language": "python",
   "name": "python3"
  },
  "language_info": {
   "codemirror_mode": {
    "name": "ipython",
    "version": 3
   },
   "file_extension": ".py",
   "mimetype": "text/x-python",
   "name": "python",
   "nbconvert_exporter": "python",
   "pygments_lexer": "ipython3",
   "version": "3.12.5"
  }
 },
 "nbformat": 4,
 "nbformat_minor": 2
}
