{
 "cells": [
  {
   "cell_type": "markdown",
   "metadata": {},
   "source": [
    "# Ramdon List (Ejercicio 1)"
   ]
  },
  {
   "cell_type": "code",
   "execution_count": 1,
   "metadata": {},
   "outputs": [
    {
     "name": "stdout",
     "output_type": "stream",
     "text": [
      "Lista aleatoria generada:\n",
      "[2, 3, 7, 6, 6, 3, 7, 2, 5, 9, 3, 1, 3, 3, 3, 5, 8, 3, 7, 9, 8, 5, 5, 5, 7, 3, 2, 7, 1, 8, 3, 8, 8, 5, 3, 8, 1, 2, 5, 8, 3, 4, 6, 7, 2, 6, 9, 7, 8, 1, 3, 8, 5, 2, 7, 2, 8, 4, 3, 1, 4, 1, 6, 1, 3, 5, 5, 9, 4, 6, 4, 1, 8, 9, 8, 1, 1, 5, 4, 1, 8, 8, 1, 4, 8, 7, 1, 1, 1, 7, 6, 5, 2, 3, 7, 9, 9, 2, 7, 7]\n",
      "\n",
      "Numero que mas se repite:\n",
      "3\n",
      "\n",
      "Numero que menos se repite:\n",
      "4\n",
      "\n",
      "Lista ordenada de menor a mayor:\n",
      "[1, 1, 1, 1, 1, 1, 1, 1, 1, 1, 1, 1, 1, 1, 1, 2, 2, 2, 2, 2, 2, 2, 2, 2, 3, 3, 3, 3, 3, 3, 3, 3, 3, 3, 3, 3, 3, 3, 3, 4, 4, 4, 4, 4, 4, 4, 5, 5, 5, 5, 5, 5, 5, 5, 5, 5, 5, 5, 6, 6, 6, 6, 6, 6, 6, 7, 7, 7, 7, 7, 7, 7, 7, 7, 7, 7, 7, 7, 8, 8, 8, 8, 8, 8, 8, 8, 8, 8, 8, 8, 8, 8, 8, 9, 9, 9, 9, 9, 9, 9]\n",
      "\n",
      "Lista ordenada de mayor a menor:\n",
      "[9, 9, 9, 9, 9, 9, 9, 8, 8, 8, 8, 8, 8, 8, 8, 8, 8, 8, 8, 8, 8, 8, 7, 7, 7, 7, 7, 7, 7, 7, 7, 7, 7, 7, 7, 6, 6, 6, 6, 6, 6, 6, 5, 5, 5, 5, 5, 5, 5, 5, 5, 5, 5, 5, 4, 4, 4, 4, 4, 4, 4, 3, 3, 3, 3, 3, 3, 3, 3, 3, 3, 3, 3, 3, 3, 3, 2, 2, 2, 2, 2, 2, 2, 2, 2, 1, 1, 1, 1, 1, 1, 1, 1, 1, 1, 1, 1, 1, 1, 1]\n"
     ]
    }
   ],
   "source": [
    "import random\n",
    "from collections import Counter\n",
    "\n",
    "# 1. Generar una lista aleatoria de 100 números (de 1 a 9)\n",
    "random_list = [random.randint(1, 9) for _ in range(100)]\n",
    "\n",
    "# 2. Obtener el número que más se repite y el que menos se repite\n",
    "counter = Counter(random_list)\n",
    "most_common = counter.most_common(1)[0][0]  # Número que más se repite\n",
    "least_common = counter.most_common()[-1][0]  # Número que menos se repite\n",
    "\n",
    "# 3. Crear una lista de la generada, ordenada de menor a mayor\n",
    "sorted_asc = sorted(random_list)\n",
    "\n",
    "# 4. Crear una lista de la generada, ordenada de mayor a menor\n",
    "sorted_desc = sorted(random_list, reverse=True)\n",
    "\n",
    "# 5. Función para eliminar un elemento por valor o posición\n",
    "def eliminar_elemento(lista, valor=None, posicion=None):\n",
    "    if valor is not None:\n",
    "        while valor in lista:  # Elimina todas las ocurrencias del valor\n",
    "            lista.remove(valor)\n",
    "    elif posicion is not None and 0 <= posicion < len(lista):\n",
    "        lista.pop(posicion)  # Elimina el elemento en la posición indicada\n",
    "    return lista\n",
    "\n",
    "# Mostrando los resultados\n",
    "print(\"Lista aleatoria generada:\")\n",
    "print(random_list)\n",
    "\n",
    "print(\"\\nNumero que mas se repite:\")\n",
    "print(most_common)\n",
    "\n",
    "print(\"\\nNumero que menos se repite:\")\n",
    "print(least_common)\n",
    "\n",
    "print(\"\\nLista ordenada de menor a mayor:\")\n",
    "print(sorted_asc)\n",
    "\n",
    "print(\"\\nLista ordenada de mayor a menor:\")\n",
    "print(sorted_desc)"
   ]
  }
 ],
 "metadata": {
  "kernelspec": {
   "display_name": "Python 3",
   "language": "python",
   "name": "python3"
  },
  "language_info": {
   "codemirror_mode": {
    "name": "ipython",
    "version": 3
   },
   "file_extension": ".py",
   "mimetype": "text/x-python",
   "name": "python",
   "nbconvert_exporter": "python",
   "pygments_lexer": "ipython3",
   "version": "3.12.5"
  }
 },
 "nbformat": 4,
 "nbformat_minor": 2
}
