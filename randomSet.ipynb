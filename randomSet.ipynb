{
 "cells": [
  {
   "cell_type": "markdown",
   "metadata": {},
   "source": [
    "# Random Set (Ejercio 2)"
   ]
  },
  {
   "cell_type": "code",
   "execution_count": 3,
   "metadata": {},
   "outputs": [
    {
     "name": "stdout",
     "output_type": "stream",
     "text": [
      "Unión: {0, 1, 2, 3, 4, 5, 7, 8, 10, 11, 12, 13, 14, 15, 16, 18, 19, 20, 21, 22, 23, 24, 25, 26, 27, 29, 30, 32, 33, 34, 35, 36, 37, 38, 39, 40, 41, 42, 43, 44, 45, 46, 47, 48, 49, 50, 51, 52, 53, 54, 55, 56, 57, 58, 59, 60, 61, 62, 63, 64, 65, 66, 67, 68, 69, 70, 71, 72, 73, 74, 75, 76, 77, 78, 79, 80, 81, 82, 83, 84, 85, 87, 88, 89, 90, 91, 92, 93, 94, 95, 96, 97, 98, 99, 100}\n",
      "Intersección: {1, 3, 7, 15, 16, 33, 44, 47, 50, 53, 57, 59, 62, 63, 66, 69, 70, 73, 85, 94, 98, 99}\n",
      "Diferencia: {8, 12, 19, 26, 27, 32, 54, 72, 81}\n",
      "Es subconjunto: False\n",
      "Es superconjunto: False\n"
     ]
    }
   ],
   "source": [
    "import random\n",
    "\n",
    "# Generar tres listas de 100 números aleatorios entre 0 y 100\n",
    "conjunto_aleatorio1 = [random.randint(0, 100) for _ in range(100)]\n",
    "conjunto_aleatorio2 = [random.randint(0, 100) for _ in range(100)]\n",
    "conjunto_aleatorio3 = [random.randint(0, 100) for _ in range(100)]\n",
    "\n",
    "# Convertir las listas a conjuntos (eliminar duplicados)\n",
    "conjunto1 = set(conjunto_aleatorio1)\n",
    "conjunto2 = set(conjunto_aleatorio2)\n",
    "conjunto3 = set(conjunto_aleatorio3)\n",
    "\n",
    "# Operaciones entre conjuntos\n",
    "union_set = conjunto1 | conjunto2 | conjunto3  \n",
    "interseccion_set = conjunto1.intersection(conjunto2, conjunto3)  \n",
    "diferencia_set = conjunto1.difference(conjunto2, conjunto3)  \n",
    "set_subconjunto = conjunto1.issubset(conjunto2) and conjunto1.issubset(conjunto3)  \n",
    "set_superconjunto = conjunto1.issuperset(conjunto2) and conjunto1.issuperset(conjunto3)  \n",
    "\n",
    "# Imprimir resultados\n",
    "print(\"Unión:\", union_set)\n",
    "print(\"Intersección:\", interseccion_set)\n",
    "print(\"Diferencia:\", diferencia_set)\n",
    "print(\"Es subconjunto:\", set_subconjunto)\n",
    "print(\"Es superconjunto:\", set_superconjunto)\n"
   ]
  }
 ],
 "metadata": {
  "kernelspec": {
   "display_name": "Python 3",
   "language": "python",
   "name": "python3"
  },
  "language_info": {
   "codemirror_mode": {
    "name": "ipython",
    "version": 3
   },
   "file_extension": ".py",
   "mimetype": "text/x-python",
   "name": "python",
   "nbconvert_exporter": "python",
   "pygments_lexer": "ipython3",
   "version": "3.12.5"
  }
 },
 "nbformat": 4,
 "nbformat_minor": 2
}
