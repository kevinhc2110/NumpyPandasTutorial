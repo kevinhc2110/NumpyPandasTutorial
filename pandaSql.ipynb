{
 "cells": [
  {
   "cell_type": "code",
   "execution_count": 8,
   "metadata": {},
   "outputs": [],
   "source": [
    "\n",
    "import pandas as pd\n"
   ]
  },
  {
   "cell_type": "code",
   "execution_count": null,
   "metadata": {},
   "outputs": [],
   "source": [
    "from sqlalchemy import create_engine\n",
    "\n",
    "host = 'localhost'\n",
    "port = 3306\n",
    "database = 'sakila'\n",
    "user = 'root'\n",
    "password = '123456'\n",
    "\n",
    "conectionString = f'mysql+pymysql://{user}:{password}@{host}:{port}/{database}'\n",
    "\n",
    "engine = create_engine(conectionString)\n",
    "\n",
    "query = 'select * from film'\n",
    "\n",
    "df = pd.read_sql(query, engine)\n",
    "\n",
    "df.head\n"
   ]
  },
  {
   "cell_type": "code",
   "execution_count": 18,
   "metadata": {},
   "outputs": [],
   "source": [
    "query = 'select * from film'\n",
    "dffilm = pd.read_sql(query, engine)\n",
    "\n",
    "query = 'select * from film_actor'\n",
    "dffilmactor = pd.read_sql(query, engine)\n",
    "\n",
    "query = 'select * from actor'\n",
    "dfactor = pd.read_sql(query, engine)\n",
    "\n",
    "query = 'select * from category'\n",
    "dfcategory = pd.read_sql(query, engine)\n",
    "\n",
    "query = 'select * from film_category'\n",
    "dffilmcategory = pd.read_sql(query, engine)"
   ]
  },
  {
   "cell_type": "code",
   "execution_count": null,
   "metadata": {},
   "outputs": [],
   "source": [
    "dfjoin = pd.merge(dffilm, dffilmactor, left_on='film_id', right_on = 'film_id', how='inner', suffixes=('_film', '_filmactor'))\n",
    "dfjoin\n",
    "\n",
    "dfjoin = pd.merge(dfjoin, dfactor, left_on='actor_id', right_on = 'actor_id', how= 'inner', suffixes=('_filmactor', '_actor'))\n",
    "dfjoin\n",
    "\n",
    "dfjoin = pd.merge(dfjoin, dffilmcategory, left_on='film_id', right_on = 'film_id', how= 'inner', suffixes=('_actor', '_filmcategory'))\n",
    "dfjoin\n",
    "\n",
    "dfjoin = pd.merge(dfjoin, dfcategory, left_on='category_id', right_on = 'category_id', how= 'inner', suffixes=('_filmcategory', '_category'))\n",
    "dfjoin\n"
   ]
  },
  {
   "cell_type": "code",
   "execution_count": 17,
   "metadata": {},
   "outputs": [],
   "source": [
    "engine.dispose()"
   ]
  }
 ],
 "metadata": {
  "kernelspec": {
   "display_name": "Python 3",
   "language": "python",
   "name": "python3"
  },
  "language_info": {
   "codemirror_mode": {
    "name": "ipython",
    "version": 3
   },
   "file_extension": ".py",
   "mimetype": "text/x-python",
   "name": "python",
   "nbconvert_exporter": "python",
   "pygments_lexer": "ipython3",
   "version": "3.12.5"
  }
 },
 "nbformat": 4,
 "nbformat_minor": 2
}
